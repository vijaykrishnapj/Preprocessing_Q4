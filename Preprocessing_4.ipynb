{
  "nbformat": 4,
  "nbformat_minor": 0,
  "metadata": {
    "colab": {
      "provenance": []
    },
    "kernelspec": {
      "name": "python3",
      "display_name": "Python 3"
    },
    "language_info": {
      "name": "python"
    }
  },
  "cells": [
    {
      "cell_type": "code",
      "execution_count": 1,
      "metadata": {
        "colab": {
          "base_uri": "https://localhost:8080/"
        },
        "id": "6CXGvXcL3Qp0",
        "outputId": "f6a423f2-c43e-428c-c8ae-55ed7b0bc79b"
      },
      "outputs": [
        {
          "output_type": "stream",
          "name": "stdout",
          "text": [
            "Matrix (MxN dimension):\n",
            "[[1.2 3.5 5.7 2.1 4.4]\n",
            " [6.8 2.4 3.6 8.7 5.9]\n",
            " [4.3 7.1 8.2 1.4 3.7]\n",
            " [9.8 2.1 4.5 6.2 7. ]]\n",
            "\n",
            "Covariance Matrix (MxM dimension):\n",
            "[[ 3.207  -2.8255  3.121  -2.867 ]\n",
            " [-2.8255  6.327  -6.3865  5.228 ]\n",
            " [ 3.121  -6.3865  7.443  -4.4235]\n",
            " [-2.867   5.228  -4.4235  8.227 ]]\n",
            "\n",
            "Correlation Matrix (MxM dimension):\n",
            "[[ 1.         -0.62725902  0.6388079  -0.5581584 ]\n",
            " [-0.62725902  1.         -0.93065773  0.72462934]\n",
            " [ 0.6388079  -0.93065773  1.         -0.56528996]\n",
            " [-0.5581584   0.72462934 -0.56528996  1.        ]]\n",
            "\n"
          ]
        }
      ],
      "source": [
        "import numpy as np\n",
        "\n",
        "M = 4\n",
        "N = 5\n",
        "\n",
        "matrix = np.array([\n",
        "    [1.2, 3.5, 5.7, 2.1, 4.4],\n",
        "    [6.8, 2.4, 3.6, 8.7, 5.9],\n",
        "    [4.3, 7.1, 8.2, 1.4, 3.7],\n",
        "    [9.8, 2.1, 4.5, 6.2, 7.0]\n",
        "])\n",
        "\n",
        "matrix_T = matrix.T\n",
        "\n",
        "covariance_matrix = np.cov(matrix_T, rowvar=False)\n",
        "\n",
        "correlation_matrix = np.corrcoef(matrix_T, rowvar=False)\n",
        "\n",
        "print(f'Matrix (MxN dimension):\\n{matrix}\\n')\n",
        "print(f'Covariance Matrix (MxM dimension):\\n{covariance_matrix}\\n')\n",
        "print(f'Correlation Matrix (MxM dimension):\\n{correlation_matrix}\\n')\n"
      ]
    }
  ]
}